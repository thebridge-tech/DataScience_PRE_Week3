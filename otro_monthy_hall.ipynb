{
 "cells": [
  {
   "cell_type": "code",
   "execution_count": 1,
   "metadata": {},
   "outputs": [
    {
     "name": "stdout",
     "output_type": "stream",
     "text": [
      "\n",
      "Stay: 33\n",
      "Switch: 66\n"
     ]
    }
   ],
   "source": [
    "import numpy as np\n",
    " \n",
    "# N Samples\n",
    "N = 10000\n",
    " \n",
    "#Define an array of the different doors with the car at random\n",
    "cars = np.random.randint(0,high=3,size=N)+1\n",
    "#define an array of the different doors, and picks at random\n",
    "picks = np.random.randint(0,high=3,size=N)+1\n",
    " \n",
    "#Counters for win if stay and switch\n",
    "count_stay =0\n",
    "count_switch =0\n",
    " \n",
    " \n",
    "for i in range(N):\n",
    "    #define array of 3 doors\n",
    "    doors_round1 = [1,2,3]\n",
    " \n",
    "    #First we have to remove both the car and the pick\n",
    "    doors_round1.remove(picks[i])\n",
    "    if cars[i] != picks[i]:\n",
    "        doors_round1.remove(cars[i])\n",
    " \n",
    "    #Will open one door at random.\n",
    "    #If Cars and Picks are the same door, it can only choose one.\n",
    "    open_door = doors_round1[np.random.randint(len(doors_round1))]\n",
    " \n",
    "    doors_round2 = [1,2,3]\n",
    "    doors_round2.remove(open_door)\n",
    " \n",
    "    #Switch picks\n",
    "    doors_round2.remove(picks[i])\n",
    "    pick2 = doors_round2[0]\n",
    " \n",
    " \n",
    "    if  cars[i] == picks[i]:\n",
    "        count_stay = count_stay + 1\n",
    " \n",
    "    if  cars[i] == pick2:\n",
    "        count_switch = count_switch + 1\n",
    " \n",
    "print(\"\\nStay: %d\"%(100*count_stay/N))\n",
    "print(\"Switch: %d\"%(100*count_switch/N))"
   ]
  },
  {
   "cell_type": "code",
   "execution_count": null,
   "metadata": {},
   "outputs": [],
   "source": []
  }
 ],
 "metadata": {
  "kernelspec": {
   "display_name": "Python 3",
   "language": "python",
   "name": "python3"
  },
  "language_info": {
   "codemirror_mode": {
    "name": "ipython",
    "version": 3
   },
   "file_extension": ".py",
   "mimetype": "text/x-python",
   "name": "python",
   "nbconvert_exporter": "python",
   "pygments_lexer": "ipython3",
   "version": "3.6.9"
  }
 },
 "nbformat": 4,
 "nbformat_minor": 4
}
