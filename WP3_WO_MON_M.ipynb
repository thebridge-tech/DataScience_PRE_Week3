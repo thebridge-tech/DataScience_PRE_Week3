{
 "cells": [
  {
   "cell_type": "markdown",
   "metadata": {},
   "source": [
    "## Jugando con Probabilidades y Python\n",
    "\n",
    "Bien, ahora que ya sabemos como calcular [probabilidades](https://es.wikipedia.org/wiki/Probabilidad), llegó finalmente el momento de ponerse a resolver las situaciones planteadas en el comienzo, para eso vamos a utilizar nuevamente un poco de [Python](https://www.python.org/). \n",
    "\n",
    "### La coincidencia de cumpleaños\n",
    "\n",
    "La [paradoja del cumpleaños](https://es.wikipedia.org/wiki/Paradoja_del_cumplea%C3%B1os) es un problema muy conocido en el campo de la [teoría de probabilidad](https://es.wikipedia.org/wiki/Teor%C3%ADa_de_la_probabilidad).\n",
    "Plantea las siguientes interesantes preguntas: ¿Cuál es la [probabilidad](https://es.wikipedia.org/wiki/Probabilidad) de que, en un grupo de personas elegidas al azar, al menos dos de ellas habrán nacido el mismo día del año? ¿Cuántas personas son necesarias para asegurar una probabilidad mayor al 50%?. Excluyendo el 29 de febrero de nuestros cálculos y asumiendo que los restantes 365 días de posibles cumpleaños son igualmente probables, nos sorprendería darnos cuenta de que, en un grupo de sólo 23 personas, la [probabilidad](https://es.wikipedia.org/wiki/Probabilidad) de que dos personas compartan la misma fecha de cumpleaños es mayor al 50%!.\n",
    "\n",
    "Esto ya nos dice algo respecto a nuestras chances en la apuesta con nuestro amigo, pero de todas formas calculemos la [probabilidad](https://es.wikipedia.org/wiki/Probabilidad) en un grupo de 50 personas. Calcular la [probabilidad](https://es.wikipedia.org/wiki/Probabilidad) de un cumpleaños duplicado puede parecer una tarea desalentadora. Pero ¿qué pasa con calcular la [probabilidad](https://es.wikipedia.org/wiki/Probabilidad) de que no haya un cumpleaños duplicado? Esto es realmente una tarea más fácil. Especialmente si simplificamos el problema a un grupo muy pequeño. Supongamos que  el grupo sólo tiene una persona, en ese caso, hay una probabilidad del 100% que esta persona no comparte un cumpleaños puesto que no hay nadie más quien compartir. Pero ahora podemos añadir una segunda persona al grupo. ¿Cuáles son las posibilidades de que tenga un cumpleaños diferente de esa persona? De hecho esto es bastante fácil, hay 364 otros días en el año, así que las posibilidades son 364/365. ¿Qué tal si agregamos una tercera persona al grupo? Ahora hay 363/365 días. Para obtener la [probabilidad](https://es.wikipedia.org/wiki/Probabilidad) general de que no hay cumpleaños compartidos simplemente multiplicamos las probabilidades individuales. Si utilizamos este procedimiento, con la ayuda de [Python](https://www.python.org/) podemos calcular fácilmente las [probabilidades](https://es.wikipedia.org/wiki/Probabilidad) de un cumpleaños compartido en un grupo de 50 personas."
   ]
  },
  {
   "cell_type": "code",
   "execution_count": 1,
   "metadata": {
    "collapsed": false,
    "jupyter": {
     "outputs_hidden": false
    }
   },
   "outputs": [
    {
     "name": "stdout",
     "output_type": "stream",
     "text": [
      "Probabilidad de que compartan una misma fecha de cumpleaños es 0.97\n"
     ]
    }
   ],
   "source": [
    "# Ejemplo situación 2 La coincidencia de cumpleaños\n",
    "prob = 1.0\n",
    "asistentes = 50\n",
    "\n",
    "for i in range(asistentes):\n",
    "    prob = prob * (365-i)/365\n",
    "\n",
    "print(\"Probabilidad de que compartan una misma fecha de cumpleaños es {0:.2f}\"\n",
    "      .format(1 - prob))"
   ]
  },
  {
   "cell_type": "markdown",
   "metadata": {},
   "source": [
    "Como vemos, la apuesta de nuestro amigo es casi una apuesta segura para él. Se ve que conoce bastante bien la [teoría de probabilidad](https://es.wikipedia.org/wiki/Teor%C3%ADa_de_la_probabilidad) y quiere disfrutar de la fiesta a consta nuestra!\n",
    "\n"
   ]
  },
  {
   "cell_type": "markdown",
   "metadata": {
    "colab_type": "text",
    "id": "T82T2FuSk8YV"
   },
   "source": [
    "## Variables aleatorias. Vamos a tirar un dado\n",
    "\n",
    "The first sort of random variable we'll look at is discrete - these take values from an enumerated set, like the dice example above. The main rule for a discrete random variable is that the sum of all the probabilities (across all the discrete options) has to be exactly 1.\n",
    "\n",
    "Let's reproduce a six-sided die in Python, with the handy `random` from the standard library:"
   ]
  },
  {
   "cell_type": "code",
   "execution_count": 2,
   "metadata": {
    "colab": {
     "base_uri": "https://localhost:8080/",
     "height": 1102
    },
    "colab_type": "code",
    "id": "e9u4frvmgmfm",
    "outputId": "1e16fa1e-4a1b-4692-f780-0087ad3b3652"
   },
   "outputs": [
    {
     "data": {
      "text/plain": [
       "['BPF',\n",
       " 'LOG4',\n",
       " 'NV_MAGICCONST',\n",
       " 'RECIP_BPF',\n",
       " 'Random',\n",
       " 'SG_MAGICCONST',\n",
       " 'SystemRandom',\n",
       " 'TWOPI',\n",
       " '_BuiltinMethodType',\n",
       " '_MethodType',\n",
       " '_Sequence',\n",
       " '_Set',\n",
       " '__all__',\n",
       " '__builtins__',\n",
       " '__cached__',\n",
       " '__doc__',\n",
       " '__file__',\n",
       " '__loader__',\n",
       " '__name__',\n",
       " '__package__',\n",
       " '__spec__',\n",
       " '_acos',\n",
       " '_bisect',\n",
       " '_ceil',\n",
       " '_cos',\n",
       " '_e',\n",
       " '_exp',\n",
       " '_inst',\n",
       " '_itertools',\n",
       " '_log',\n",
       " '_pi',\n",
       " '_random',\n",
       " '_sha512',\n",
       " '_sin',\n",
       " '_sqrt',\n",
       " '_test',\n",
       " '_test_generator',\n",
       " '_urandom',\n",
       " '_warn',\n",
       " 'betavariate',\n",
       " 'choice',\n",
       " 'choices',\n",
       " 'expovariate',\n",
       " 'gammavariate',\n",
       " 'gauss',\n",
       " 'getrandbits',\n",
       " 'getstate',\n",
       " 'lognormvariate',\n",
       " 'normalvariate',\n",
       " 'paretovariate',\n",
       " 'randint',\n",
       " 'random',\n",
       " 'randrange',\n",
       " 'sample',\n",
       " 'seed',\n",
       " 'setstate',\n",
       " 'shuffle',\n",
       " 'triangular',\n",
       " 'uniform',\n",
       " 'vonmisesvariate',\n",
       " 'weibullvariate']"
      ]
     },
     "execution_count": 2,
     "metadata": {},
     "output_type": "execute_result"
    }
   ],
   "source": [
    "import random\n",
    "dir(random)  # Let's see what we've got"
   ]
  },
  {
   "cell_type": "code",
   "execution_count": 3,
   "metadata": {
    "colab": {
     "base_uri": "https://localhost:8080/",
     "height": 106
    },
    "colab_type": "code",
    "id": "sSnWP25Sq8Ri",
    "outputId": "009e0b1f-f781-45bc-9a48-be85d213931d"
   },
   "outputs": [
    {
     "name": "stdout",
     "output_type": "stream",
     "text": [
      "Help on method randint in module random:\n",
      "\n",
      "randint(a, b) method of random.Random instance\n",
      "    Return random integer in range [a, b], including both end points.\n",
      "\n"
     ]
    }
   ],
   "source": [
    "# Lots of stuff! \"randint\" sounds promising, integers are discrete\n",
    "help(random.randint)"
   ]
  },
  {
   "cell_type": "code",
   "execution_count": 4,
   "metadata": {
    "colab": {
     "base_uri": "https://localhost:8080/",
     "height": 35
    },
    "colab_type": "code",
    "id": "uF5EmVCfrFEG",
    "outputId": "387cbb1d-30db-4e4e-c7d4-4b21e936e61d"
   },
   "outputs": [
    {
     "name": "stdout",
     "output_type": "stream",
     "text": [
      "3\n"
     ]
    }
   ],
   "source": [
    "# Looking good - let's give it a try\n",
    "die_roll_1 = random.randint(1, 6)\n",
    "print(die_roll_1)"
   ]
  },
  {
   "cell_type": "code",
   "execution_count": 21,
   "metadata": {
    "colab": {
     "base_uri": "https://localhost:8080/",
     "height": 55
    },
    "colab_type": "code",
    "id": "BkMh_c9hrMSE",
    "outputId": "2a5b7290-2dcf-4940-e46a-c0563bbb7d66"
   },
   "outputs": [
    {
     "name": "stdout",
     "output_type": "stream",
     "text": [
      "[1, 2, 1, 3, 4, 5, 3, 6, 1, 4, 6, 4, 3, 4, 4, 3, 1, 5, 1, 3]\n"
     ]
    }
   ],
   "source": [
    "# Let's do a bunch of rolls and save them in a list\n",
    "die_rolls = [random.randint(1, 6) for _ in range(20)]\n",
    "print(die_rolls)"
   ]
  },
  {
   "cell_type": "code",
   "execution_count": 22,
   "metadata": {
    "colab": {
     "base_uri": "https://localhost:8080/",
     "height": 35
    },
    "colab_type": "code",
    "id": "9w9ToSNIrT3y",
    "outputId": "a4a39b3e-7c61-406b-84fe-10a78effc475"
   },
   "outputs": [
    {
     "data": {
      "text/plain": [
       "3.2"
      ]
     },
     "execution_count": 22,
     "metadata": {},
     "output_type": "execute_result"
    }
   ],
   "source": [
    "# What can we say about these? Well, we can figure out the mean\n",
    "sum(die_rolls) / len(die_rolls)"
   ]
  },
  {
   "cell_type": "code",
   "execution_count": 23,
   "metadata": {
    "colab": {
     "base_uri": "https://localhost:8080/",
     "height": 35
    },
    "colab_type": "code",
    "id": "57l2u-wGrtv7",
    "outputId": "3e12e19a-ba9a-435e-98d5-fba4c74acfbd"
   },
   "outputs": [
    {
     "data": {
      "text/plain": [
       "3"
      ]
     },
     "execution_count": 23,
     "metadata": {},
     "output_type": "execute_result"
    }
   ],
   "source": [
    "# And we can figure out the median\n",
    "sorted(die_rolls)[len(die_rolls) // 2]"
   ]
  },
  {
   "cell_type": "code",
   "execution_count": 24,
   "metadata": {},
   "outputs": [
    {
     "name": "stdout",
     "output_type": "stream",
     "text": [
      "1\n"
     ]
    }
   ],
   "source": [
    "#Calculando la moda utilizando la función max(). La clave es la cuenta de los valores de la lista, y se calcula el máximo\n",
    "\n",
    "mode = max(set(die_rolls), key=die_rolls.count)\n",
    "print(mode)\n",
    "\n"
   ]
  },
  {
   "cell_type": "markdown",
   "metadata": {},
   "source": [
    "#### Otra forma de calcular la moda "
   ]
  },
  {
   "cell_type": "code",
   "execution_count": 45,
   "metadata": {},
   "outputs": [
    {
     "name": "stdout",
     "output_type": "stream",
     "text": [
      "mode =  2\n"
     ]
    }
   ],
   "source": [
    "def printMode(a) : \n",
    "  \n",
    "    # variable to store max of  \n",
    "    # input array which will  \n",
    "    # to have size of count array  \n",
    "    max_element = max(a)  \n",
    "  \n",
    "    # auxiliary(count) array to store count.  \n",
    "    # Initialize count array as 0. Size  \n",
    "    # of count array will be equal to (max + 1).  \n",
    "    t = max_element + 1\n",
    "    count = [0] * t \n",
    "    \n",
    "    # Store count of each element  \n",
    "    # of input array  \n",
    "    for i in range(len(a)) : \n",
    "        count[a[i]] += 1\n",
    "  \n",
    "    # mode is the index with maximum count  \n",
    "    mode = 0\n",
    "    k = count[0] \n",
    "    for i in range(1, t) :  \n",
    "        if (count[i] > k) :  \n",
    "            k = count[i] \n",
    "            mode = i  \n",
    "    print(\"mode = \", mode) \n",
    "\n",
    "\n",
    "printMode(die_rolls)\n",
    "\n",
    "\n"
   ]
  },
  {
   "cell_type": "markdown",
   "metadata": {},
   "source": [
    "#### Otra forma de calcular la moda "
   ]
  },
  {
   "cell_type": "code",
   "execution_count": 46,
   "metadata": {},
   "outputs": [
    {
     "data": {
      "text/plain": [
       "2"
      ]
     },
     "execution_count": 46,
     "metadata": {},
     "output_type": "execute_result"
    }
   ],
   "source": [
    "from statistics import mode\n",
    "mode(die_rolls)\n"
   ]
  },
  {
   "cell_type": "markdown",
   "metadata": {},
   "source": [
    "# Resolviendo la situación 2 - ¿Que puerta elegir?\n",
    "\n",
    "Este problema, más conocido con el nombre de [Monty Hall](https://es.wikipedia.org/wiki/Problema_de_Monty_Hall), también es un problema muy popular dentro de la [teoría de probabilidad](https://es.wikipedia.org/wiki/Teor%C3%ADa_de_la_probabilidad); y se destaca por su solución que a simple vista parece totalmente anti-intuitiva.\n",
    "Intuitivamente, es bastante sencillo que nuestra elección original (cuando hay tres puertas para elegir) tiene una [probabilidad](https://es.wikipedia.org/wiki/Probabilidad) de 1/3 de ganar el concurso. Las cosas sin embargo se complican, cuando se descarta una puerta. Muchos dirían que ahora tenemos una [probabilidad](https://es.wikipedia.org/wiki/Probabilidad) de 1/2 de ganar, seleccionando cualquiera de las dos puertas; pero este no es el caso. Un aspecto crítico del problema es darse cuenta de que la elección de la puerta a descartar por el presentador, no es una decisión al azar. El presentador puede descartar una puerta porque él sabe (a) qué puerta hemos seleccionado y (b) qué puerta tiene la ferrari. De hecho, en muchos casos, el presentador debe quitar una puerta específica. Por ejemplo, si seleccionamos la puerta 1 y el premio está detrás de la puerta 3, el presentador no tiene otra opción que retirar la puerta 2. Es decir, que la elección de la puerta a descartar está condicionada tanto por la puerta con el premio como por la puerta que seleccionamos inicialmente. Este hecho, cambia totalmente la naturaleza del juego, y hace que las [probabilidades](https://es.wikipedia.org/wiki/Probabilidad) de ganar sean 2/3 si cambiamos de puerta!.\n",
    "\n",
    "Si aun no están convencidos, simulemos los resultados del concurso con la ayuda de [Python](https://www.python.org/)."
   ]
  },
  {
   "cell_type": "markdown",
   "metadata": {},
   "source": [
    "## Monty Hall con Clases"
   ]
  },
  {
   "cell_type": "code",
   "execution_count": 6,
   "metadata": {
    "collapsed": false,
    "jupyter": {
     "outputs_hidden": false
    }
   },
   "outputs": [],
   "source": [
    "# <!-- collapse=True -->\n",
    "# Ejemplo situación 2 ¿Que puerta elegir? (el problema Monty Hall)\n",
    "def elegir_puerta():\n",
    "    \"\"\"\n",
    "    Función para elegir una puerta. Devuelve 1, 2, o 3 en forma aleatoria.\n",
    "    \"\"\"\n",
    "    return np.random.randint(1,4)\n",
    "\n",
    "\n",
    "class MontyHall:\n",
    "    \"\"\"\n",
    "    Clase para modelar el problema de Monty Hall.\n",
    "    \"\"\"\n",
    "    def __init__(self):\n",
    "        \"\"\"\n",
    "        Crea la instancia del problema. \n",
    "        \"\"\"\n",
    "        # Elige una puerta en forma aleatoria.\n",
    "        self.puerta_ganadora = elegir_puerta()\n",
    "        # variables para la puerta elegida y la puerta descartada\n",
    "        self.puerta_elegida = None\n",
    "        self.puerta_descartada = None\n",
    " \n",
    "    def selecciona_puerta(self):\n",
    "        \"\"\"\n",
    "        Selecciona la puerta del concursante en forma aleatoria.\n",
    "        \"\"\"\n",
    "        self.puerta_elegida = elegir_puerta()\n",
    " \n",
    "    def descarta_puerta(self):\n",
    "        \"\"\"\n",
    "        Con este método el presentador descarta una de la puertas.\n",
    "        \"\"\"\n",
    "        # elegir puerta en forma aleatoria .\n",
    "        d = elegir_puerta()\n",
    "        # Si es al puerta ganadora o la del concursante, volver a elegir.\n",
    "        while d == self.puerta_ganadora or d == self.puerta_elegida:\n",
    "            d = elegir_puerta()\n",
    "        # Asignar el valor a puerta_descartada.\n",
    "        self.puerta_descartada = d\n",
    " \n",
    "    def cambiar_puerta(self):\n",
    "        \"\"\"\n",
    "        Cambia la puerta del concursante una vez que se elimino una puerta.\n",
    "        \"\"\"\n",
    "        # 1+2+3=6. Solo existe una puerta para elegir.\n",
    "        self.puerta_elegida = 6 - self.puerta_elegida - self.puerta_descartada\n",
    " \n",
    "    def gana_concursante(self):\n",
    "        \"\"\"\n",
    "        Determina si el concursante gana. \n",
    "        Devuelve True si gana, False si pierde.\n",
    "        \"\"\"\n",
    "        return self.puerta_elegida == self.puerta_ganadora\n",
    "            \n",
    " \n",
    "    def jugar(self, cambiar=True):\n",
    "        \"\"\"\n",
    "        Una vez que la clase se inicio, jugar el concurso.\n",
    " \n",
    "        'cambiar' determina si el concursante cambia su elección.\n",
    "        \"\"\"\n",
    "        # El concursante elige una puerta.\n",
    "        self.selecciona_puerta()\n",
    "        # El presentador elimina una puerta.\n",
    "        self.descarta_puerta()\n",
    "        # El concursante cambia su elección.\n",
    "        if cambiar:\n",
    "            self.cambiar_puerta()\n",
    "        # Determinar si el concursante ha ganado.\n",
    "        return self.gana_concursante()"
   ]
  },
  {
   "cell_type": "code",
   "execution_count": 7,
   "metadata": {
    "collapsed": false,
    "jupyter": {
     "outputs_hidden": false
    }
   },
   "outputs": [
    {
     "name": "stdout",
     "output_type": "stream",
     "text": [
      "\n",
      "10.000 concursos sin cambiar de puerta:\n",
      "  gana: 3311 concursos\n",
      "  pierde: 6689 concursos\n",
      "  probabilidad: 33.11 procentaje de victorias\n"
     ]
    }
   ],
   "source": [
    "# Ahora, jugamos el concurso. primero nos vamos a quedar con nuestra elección\n",
    "# inicial. Vamos a ejecutar el experimiento 10.000 veces.\n",
    "gana, pierde = 0, 0\n",
    "for i in range(10000):\n",
    "    # Crear la instancia del problema.\n",
    "    s2 = MontyHall()\n",
    "    # ejecutar el concurso sin cambiar de puerta..\n",
    "    if s2.jugar(cambiar=False):\n",
    "        # si devuelve True significa que gana.\n",
    "        gana += 1\n",
    "    else:\n",
    "        # si devuelve False significa que pierde.\n",
    "        pierde += 1\n",
    "\n",
    "# veamos la fecuencia de victorias del concursante.\n",
    "porc_gana = 100.0 * gana / (gana + pierde)\n",
    " \n",
    "print(\"\\n10.000 concursos sin cambiar de puerta:\")\n",
    "print(\"  gana: {0:} concursos\".format(gana))\n",
    "print(\"  pierde: {0:} concursos\".format(pierde))\n",
    "print(\"  probabilidad: {0:.2f} procentaje de victorias\".format(porc_gana))"
   ]
  },
  {
   "cell_type": "code",
   "execution_count": 8,
   "metadata": {
    "collapsed": false,
    "jupyter": {
     "outputs_hidden": false
    }
   },
   "outputs": [
    {
     "name": "stdout",
     "output_type": "stream",
     "text": [
      "\n",
      "10.000 concursos cambiando de puerta:\n",
      "  gana: 6591 concursos\n",
      "  pierde: 3409 concursos\n",
      "  probabilidad: 65.91 procentaje de victorias\n"
     ]
    }
   ],
   "source": [
    "# Ahora, jugamos el concurso siempre cambiando la elección inicial\n",
    "# Vamos a ejecutar el experimiento 10.000 veces.\n",
    "gana, pierde = 0, 0\n",
    "for i in range(10000):\n",
    "    # Crear la instancia del problema.\n",
    "    s2 = MontyHall()\n",
    "    # ejecutar el concurso con cambiar de puerta..\n",
    "    if s2.jugar(cambiar=True):\n",
    "        # si devuelve True significa que gana.\n",
    "        gana += 1\n",
    "    else:\n",
    "        # si devuelve False significa que pierde.\n",
    "        pierde += 1\n",
    "\n",
    "# veamos la fecuencia de victorias del concursante.\n",
    "porc_gana = 100.0 * gana / (gana + pierde)\n",
    " \n",
    "print(\"\\n10.000 concursos cambiando de puerta:\")\n",
    "print(\"  gana: {0:} concursos\".format(gana))\n",
    "print(\"  pierde: {0:} concursos\".format(pierde))\n",
    "print(\"  probabilidad: {0:.2f} procentaje de victorias\".format(porc_gana))"
   ]
  },
  {
   "cell_type": "markdown",
   "metadata": {},
   "source": [
    "# Monty Hall sin clases"
   ]
  },
  {
   "cell_type": "code",
   "execution_count": 1,
   "metadata": {},
   "outputs": [
    {
     "name": "stdout",
     "output_type": "stream",
     "text": [
      "El concursante gana en 6735 ocasiones\n",
      "El concursante pierde en 3265 ocasiones\n"
     ]
    }
   ],
   "source": [
    "import numpy as np\n",
    "\n",
    "\n",
    "\n",
    "def elegir_puerta():\n",
    "    \"\"\"\n",
    "    Función para elegir una puerta. Devuelve 1, 2, o 3 en forma aleatoria.\n",
    "    \"\"\"\n",
    "    numero = np.random.randint(1,4)\n",
    "    return numero\n",
    "\n",
    " \n",
    "\n",
    "def selecciona_puerta():\n",
    "    \"\"\"\n",
    "    Selecciona la puerta del concursante en forma aleatoria.\n",
    "    \"\"\"\n",
    "    puerta_elegida = elegir_puerta()\n",
    "    return puerta_elegida\n",
    "\n",
    "    \n",
    "def descarta_puerta(puerta_ganadora,puerta_elegida):\n",
    "    \"\"\"\n",
    "    Con este método el presentador descarta una de la puertas.\n",
    "    \"\"\"\n",
    "    # elegir puerta en forma aleatoria .\n",
    "    d = elegir_puerta()\n",
    "    # Si es al puerta ganadora o la del concursante, volver a elegir.\n",
    "    while d == puerta_ganadora or d == puerta_elegida:\n",
    "            d = elegir_puerta()\n",
    "        # Asignar el valor a puerta_descartada.\n",
    "    puerta_descartada = d\n",
    "    return puerta_descartada\n",
    "\n",
    "def cambiar_puerta(puerta_elegida,puerta_descartada):\n",
    "    \"\"\"\n",
    "    Cambia la puerta del concursante una vez que se elimino una puerta.\n",
    "    \"\"\"\n",
    "    # 1+2+3=6. Solo existe una puerta para elegir.\n",
    "    puerta_elegida = 6 - puerta_elegida - puerta_descartada\n",
    "    return puerta_elegida\n",
    "\n",
    "def gana_concursante(puerta_elegida,puerta_ganadora):\n",
    "    \"\"\"\n",
    "    Determina si el concursante gana. \n",
    "    Devuelve True si gana, False si pierde.\n",
    "    \"\"\"\n",
    "    #print (puerta_elegida)\n",
    "    #print (puerta_ganadora)\n",
    "    return puerta_elegida == puerta_ganadora\n",
    "            \n",
    "\n",
    "def jugar(cambiar=True):\n",
    "    puerta_elegida = 0\n",
    "    puerta_descartada = 0\n",
    "    \n",
    "    \"\"\"\n",
    "    Una vez que la clase se inicio, jugar el concurso.\n",
    " \n",
    "    'cambiar' determina si el concursante cambia su elección.\n",
    "    \"\"\"\n",
    "    #definimos la puerta donde está el premio\n",
    "    puerta_ganadora = elegir_puerta()\n",
    "    \n",
    "    # El concursante elige una puerta.\n",
    "    puerta_elegida = selecciona_puerta()\n",
    "    \n",
    "    # El presentador elimina una puerta.    \n",
    "    puerta_descartada= descarta_puerta(puerta_ganadora,puerta_elegida)\n",
    "    \n",
    "    # El concursante cambia su elección si cambiar es True.\n",
    "    if cambiar:\n",
    "        puerta_elegida = cambiar_puerta(puerta_elegida,puerta_descartada)\n",
    "    \n",
    "    # Determinar si el concursante ha ganado.\n",
    "    return gana_concursante(puerta_elegida,puerta_ganadora)\n",
    "\n",
    "\n",
    "# creamos una lista para almacenar los resultados. Si el concursante gana se almacena un True\n",
    "numero_de_repeticiones = 10000\n",
    "lista =[]\n",
    "for i in range(numero_de_repeticiones):\n",
    "    lista.append(jugar())\n",
    "    \n",
    "#print(lista)\n",
    "print(\"El concursante gana en\", lista.count(True),\"ocasiones\")\n",
    "print(\"El concursante pierde en\",lista.count(False),\"ocasiones\")"
   ]
  },
  {
   "cell_type": "code",
   "execution_count": null,
   "metadata": {},
   "outputs": [],
   "source": []
  }
 ],
 "metadata": {
  "kernelspec": {
   "display_name": "Python 3",
   "language": "python",
   "name": "python3"
  },
  "language_info": {
   "codemirror_mode": {
    "name": "ipython",
    "version": 3
   },
   "file_extension": ".py",
   "mimetype": "text/x-python",
   "name": "python",
   "nbconvert_exporter": "python",
   "pygments_lexer": "ipython3",
   "version": "3.6.9"
  }
 },
 "nbformat": 4,
 "nbformat_minor": 4
}
